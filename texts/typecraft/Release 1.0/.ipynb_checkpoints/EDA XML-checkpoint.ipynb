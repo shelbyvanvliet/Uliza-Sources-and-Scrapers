{
 "cells": [
  {
   "cell_type": "code",
   "execution_count": 157,
   "metadata": {},
   "outputs": [],
   "source": [
    "from lxml import etree\n",
    "tree = etree.parse('Akan_release1.xml')\n",
    "root = tree.getroot()"
   ]
  },
  {
   "cell_type": "code",
   "execution_count": 158,
   "metadata": {},
   "outputs": [
    {
     "data": {
      "text/plain": [
       "lxml.etree._ElementTree"
      ]
     },
     "execution_count": 158,
     "metadata": {},
     "output_type": "execute_result"
    }
   ],
   "source": [
    "type(tree)"
   ]
  },
  {
   "cell_type": "code",
   "execution_count": 159,
   "metadata": {},
   "outputs": [
    {
     "data": {
      "text/plain": [
       "[<Element {http://typecraft.org/typecraft}title at 0x7f783731c240>,\n",
       " <Element {http://typecraft.org/typecraft}titleTranslation at 0x7f783731c100>,\n",
       " <Element {http://typecraft.org/typecraft}extraMetadata at 0x7f7836983840>,\n",
       " <Element {http://typecraft.org/typecraft}body at 0x7f78369832c0>,\n",
       " <Element {http://typecraft.org/typecraft}phrase at 0x7f78369836c0>,\n",
       " <Element {http://typecraft.org/typecraft}phrase at 0x7f7836983a80>,\n",
       " <Element {http://typecraft.org/typecraft}phrase at 0x7f7836983280>,\n",
       " <Element {http://typecraft.org/typecraft}phrase at 0x7f7836983900>,\n",
       " <Element {http://typecraft.org/typecraft}phrase at 0x7f7836916040>,\n",
       " <Element {http://typecraft.org/typecraft}phrase at 0x7f7836983940>,\n",
       " <Element {http://typecraft.org/typecraft}phrase at 0x7f7836916080>,\n",
       " <Element {http://typecraft.org/typecraft}phrase at 0x7f78369160c0>,\n",
       " <Element {http://typecraft.org/typecraft}phrase at 0x7f7836916100>,\n",
       " <Element {http://typecraft.org/typecraft}phrase at 0x7f7836916140>,\n",
       " <Element {http://typecraft.org/typecraft}phrase at 0x7f7836916180>,\n",
       " <Element {http://typecraft.org/typecraft}phrase at 0x7f78369161c0>,\n",
       " <Element {http://typecraft.org/typecraft}phrase at 0x7f7836916200>,\n",
       " <Element {http://typecraft.org/typecraft}phrase at 0x7f7836916240>,\n",
       " <Element {http://typecraft.org/typecraft}phrase at 0x7f7836916280>,\n",
       " <Element {http://typecraft.org/typecraft}phrase at 0x7f78369162c0>,\n",
       " <Element {http://typecraft.org/typecraft}phrase at 0x7f7836916300>,\n",
       " <Element {http://typecraft.org/typecraft}phrase at 0x7f7836916340>,\n",
       " <Element {http://typecraft.org/typecraft}phrase at 0x7f7836916380>,\n",
       " <Element {http://typecraft.org/typecraft}phrase at 0x7f78369163c0>,\n",
       " <Element {http://typecraft.org/typecraft}phrase at 0x7f7836916400>,\n",
       " <Element {http://typecraft.org/typecraft}phrase at 0x7f7836916440>,\n",
       " <Element {http://typecraft.org/typecraft}phrase at 0x7f7836916480>,\n",
       " <Element {http://typecraft.org/typecraft}phrase at 0x7f78369164c0>,\n",
       " <Element {http://typecraft.org/typecraft}phrase at 0x7f7836916500>,\n",
       " <Element {http://typecraft.org/typecraft}phrase at 0x7f7836916540>,\n",
       " <Element {http://typecraft.org/typecraft}phrase at 0x7f7836916580>,\n",
       " <Element {http://typecraft.org/typecraft}phrase at 0x7f78369165c0>,\n",
       " <Element {http://typecraft.org/typecraft}phrase at 0x7f7836916600>,\n",
       " <Element {http://typecraft.org/typecraft}phrase at 0x7f7836916640>,\n",
       " <Element {http://typecraft.org/typecraft}phrase at 0x7f7836916680>,\n",
       " <Element {http://typecraft.org/typecraft}phrase at 0x7f78369166c0>]"
      ]
     },
     "execution_count": 159,
     "metadata": {},
     "output_type": "execute_result"
    }
   ],
   "source": [
    "root.getchildren()[0].getchildren()"
   ]
  },
  {
   "cell_type": "markdown",
   "metadata": {},
   "source": [
    "\n",
    "## EDA on XML Tree\n",
    "41 \"chunks\" of data \n",
    "about 5 unique tags:\n",
    "- body\n",
    "- extraMetadata\n",
    "- phrase\n",
    "- title\n",
    "- titleTranslation"
   ]
  },
  {
   "cell_type": "code",
   "execution_count": 160,
   "metadata": {},
   "outputs": [
    {
     "name": "stdout",
     "output_type": "stream",
     "text": [
      "41\n"
     ]
    },
    {
     "data": {
      "text/plain": [
       "{'{http://typecraft.org/typecraft}body',\n",
       " '{http://typecraft.org/typecraft}extraMetadata',\n",
       " '{http://typecraft.org/typecraft}phrase',\n",
       " '{http://typecraft.org/typecraft}title',\n",
       " '{http://typecraft.org/typecraft}titleTranslation'}"
      ]
     },
     "execution_count": 160,
     "metadata": {},
     "output_type": "execute_result"
    }
   ],
   "source": [
    "print(len(root.getchildren()))\n",
    "set([x.tag for x in root.getchildren()[0].getchildren()])"
   ]
  },
  {
   "cell_type": "code",
   "execution_count": 161,
   "metadata": {},
   "outputs": [],
   "source": [
    "child1 = root.getchildren()[0]"
   ]
  },
  {
   "cell_type": "markdown",
   "metadata": {},
   "source": [
    "### body tag\n",
    "\n",
    "Not sure why this portion is so unordered. It appears that most of the information is stored as a text attribute in a singular body tag. "
   ]
  },
  {
   "cell_type": "code",
   "execution_count": 162,
   "metadata": {},
   "outputs": [],
   "source": [
    "#store in a list to capture all body tag contents\n",
    "body_strs = []\n",
    "for body in child1.iter('{http://typecraft.org/typecraft}body'):\n",
    "    body_strs.append(etree.tostring(body))"
   ]
  },
  {
   "cell_type": "code",
   "execution_count": 163,
   "metadata": {},
   "outputs": [],
   "source": [
    "body_root = etree.fromstring(body_strs[0])"
   ]
  },
  {
   "cell_type": "code",
   "execution_count": 164,
   "metadata": {},
   "outputs": [
    {
     "data": {
      "text/plain": [
       "b'<body xmlns=\"http://typecraft.org/typecraft\">&lt;p&gt;&lt;span class=\"phrase\" id=\"phr454118\"&gt;Ama hy&#603; ataade&#603;&lt;/span&gt;&lt;/p&gt; \\n&lt;p&gt;&lt;span class=\"phrase\" id=\"phr454119\"&gt;Kofi redidi&lt;/span&gt;&lt;/p&gt; \\n&lt;p&gt;&lt;span class=\"phrase\" id=\"phr454120\"&gt;Nkwadaa p&#603; sika&lt;/span&gt;&lt;/p&gt; \\n&lt;p&gt;&lt;span class=\"phrase\" id=\"phr454121\"&gt;W&#596;fa maa me sika&lt;/span&gt;&lt;/p&gt; \\n&lt;p&gt;&lt;span class=\"phrase\" id=\"phr454122\"&gt;Kwame too Esi Nkra&lt;/span&gt;&lt;/p&gt; \\n&lt;p&gt;&lt;span class=\"phrase\" id=\"phr454123\"&gt;Saa abofra yi b&#603;fe&lt;/span&gt;&lt;/p&gt; \\n&lt;p&gt;&lt;span class=\"phrase\" id=\"phr454124\"&gt;&#390;bo dan no y&#603; f&#603;&lt;/span&gt;&lt;/p&gt; \\n&lt;p&gt;&lt;span class=\"phrase\" id=\"phr454125\"&gt;Akura yi awe me sika&lt;/span&gt;&lt;/p&gt; \\n&lt;p&gt;&lt;span class=\"phrase\" id=\"phr454126\"&gt;Mpa k&#603;se&#603; nk&#596; dan no mu&lt;/span&gt;&lt;/p&gt; \\n&lt;p&gt;&lt;span class=\"phrase\" id=\"phr454127\"&gt;Ntoma nsia b&#603;so&lt;/span&gt;&lt;/p&gt; \\n&lt;p&gt;&lt;span class=\"phrase\" id=\"phr454128\"&gt;Nnipa nyinaa p&#603; Yesu as&#603;m&lt;/span&gt;&lt;/p&gt; \\n&lt;p&gt;ab&#596;fra a &#596;b&#603;kyeaa me no k&#596;&lt;/p&gt; \\n&lt;p&gt;&lt;span class=\"phrase\" id=\"phr454130\"&gt;Kofi papa b&#603;ba &#596;kyena&lt;/span&gt;&lt;/p&gt; \\n&lt;p&gt;&lt;span class=\"phrase\" id=\"phr454131\"&gt;Ne papa b&#603;ba &#596;kyena&lt;/span&gt;&lt;/p&gt; \\n&lt;p&gt;&lt;span class=\"phrase\" id=\"phr454132\"&gt;Aboa k&#603;se&#603; no aduane asa&lt;/span&gt;&lt;/p&gt; \\n&lt;p&gt;&lt;span class=\"phrase\" id=\"phr454133\"&gt;Papa no fie no y&#603; f&#603;&lt;/span&gt;&lt;/p&gt; \\n&lt;p&gt;&lt;span class=\"phrase\" id=\"phr454134\"&gt;Papa k&#603;se&#603; no baa ha&lt;/span&gt;&lt;/p&gt; \\n&lt;p&gt;&lt;span class=\"phrase\" id=\"phr454135\"&gt;Papa k&#603;se&#603; bi baa ha&lt;/span&gt;&lt;/p&gt; \\n&lt;p&gt;&lt;span class=\"phrase\" id=\"phr454136\"&gt;Papa k&#603;se&#603; yi baa ha&lt;/span&gt;&lt;/p&gt; \\n&lt;p&gt;&lt;span class=\"phrase\" id=\"phr454137\"&gt;Papa ak&#603;se&#603; nsia yi baa ha&lt;/span&gt;&lt;/p&gt; \\n&lt;p&gt;&lt;span class=\"phrase\" id=\"phr454138\"&gt;Papa ak&#603;se&#603; nsia yi nyinaa baa ha&lt;/span&gt;&lt;/p&gt; \\n&lt;p&gt;&lt;span class=\"phrase\" id=\"phr454139\"&gt;Kofi mmoa ak&#603;se&#603; no awu&lt;/span&gt;&lt;/p&gt; \\n&lt;p&gt;&lt;span class=\"phrase\" id=\"phr454140\"&gt;Y&#603;n mmoa ak&#603;se&#603; yi awu&lt;/span&gt;&lt;/p&gt; \\n&lt;p&gt;&lt;span class=\"phrase\" id=\"phr454141\"&gt;W&#8217;aboa k&#603;se&#603; bi awu&lt;/span&gt;&lt;/p&gt; \\n&lt;p&gt;&lt;span class=\"phrase\" id=\"phr454142\"&gt;Me mmoa ak&#603;se&#603; a w&#596;baa ha no nyinaa awu&lt;/span&gt;&lt;/p&gt; \\n&lt;p&gt;&lt;span class=\"phrase\" id=\"phr454143\"&gt;Abaayewa a &#596;b&#603;kyeaa me yi k&#596;&lt;/span&gt;&lt;/p&gt; \\n&lt;p&gt;&lt;span class=\"phrase\" id=\"phr454144\"&gt;Abaayewa no a &#596;b&#603;kyeaa me nnora no k&#596;&lt;/span&gt;&lt;/p&gt; \\n&lt;p&gt;&lt;span class=\"phrase\" id=\"phr454145\"&gt;Abaayewa yi a &#596;b&#603;kyeaa me yi k&#596;&lt;/span&gt;&lt;/p&gt; \\n&lt;p&gt;&lt;span class=\"phrase\" id=\"phr454146\"&gt;Abaayewa yi a &#596;b&#603;kyeaa me no k&#596;&lt;/span&gt;&lt;/p&gt; \\n&lt;p&gt;&lt;span class=\"phrase\" id=\"phr454147\"&gt;Abaayewa no a &#596;b&#603;kyeaa me yi k&#596;&lt;/span&gt;&lt;/p&gt; \\n&lt;p&gt;&lt;span class=\"phrase\" id=\"phr454148\"&gt;Abaayewa yi a &#596;b&#603;kyeaa me k&#596;&lt;/span&gt;&lt;/p&gt; \\n&lt;p&gt;&lt;span class=\"phrase\" id=\"phr454149\"&gt;Abaayewa no a &#596;b&#603;kyeaa me k&#596;&lt;/span&gt;&lt;/p&gt; \\n&lt;p&gt;Unmatched phrases (TC could not identify those phrases and appended them here, feel free to move them around):&lt;/p&gt; \\n&lt;p&gt;&lt;span class=\"phrase\" id=\"phr454129\"&gt;Ab&#596;fra a &#596;b&#603;kyeaa me no k&#596;&lt;/span&gt;&lt;/p&gt;</body>'"
      ]
     },
     "execution_count": 164,
     "metadata": {},
     "output_type": "execute_result"
    }
   ],
   "source": [
    "body_strs[0]"
   ]
  },
  {
   "cell_type": "markdown",
   "metadata": {},
   "source": [
    "### phrase tag\n",
    "This is probably where the bulk of the morpheme information is located. After iterating through all chunks, we end up with 1312 phrases, which is what was promised on the original Release 1 Documentation. I'm therefore confident that all valuable morpheme information in contained within these tags."
   ]
  },
  {
   "cell_type": "code",
   "execution_count": 165,
   "metadata": {},
   "outputs": [],
   "source": [
    "chunks = root.getchildren()\n",
    "tag = '{http://typecraft.org/typecraft}phrase'\n",
    "\n",
    "phrases = []\n",
    "\n",
    "for chunk in chunks:\n",
    "    for phrase in child1.iter(tag):\n",
    "        phrases.append(phrase)"
   ]
  },
  {
   "cell_type": "code",
   "execution_count": 166,
   "metadata": {},
   "outputs": [
    {
     "data": {
      "text/plain": [
       "1312"
      ]
     },
     "execution_count": 166,
     "metadata": {},
     "output_type": "execute_result"
    }
   ],
   "source": [
    "len(phrases)"
   ]
  },
  {
   "cell_type": "markdown",
   "metadata": {},
   "source": [
    "#### A function to help us describe XML elements"
   ]
  },
  {
   "cell_type": "code",
   "execution_count": 167,
   "metadata": {},
   "outputs": [
    {
     "name": "stdout",
     "output_type": "stream",
     "text": [
      "element: <Element {http://typecraft.org/typecraft}phrase at 0x7f78369836c0>\n",
      "text: None\n",
      "attributes: {'id': '454118'}\n",
      "tag: {http://typecraft.org/typecraft}phrase\n",
      "children: [<Element {http://typecraft.org/typecraft}original at 0x7f7836923400>, <Element {http://typecraft.org/typecraft}translation at 0x7f783691d9c0>, <Element {http://typecraft.org/typecraft}translation2 at 0x7f783691d900>, <Element {http://typecraft.org/typecraft}description at 0x7f783691da80>, <Element {http://typecraft.org/typecraft}word at 0x7f783691dc00>, <Element {http://typecraft.org/typecraft}word at 0x7f783691d600>, <Element {http://typecraft.org/typecraft}word at 0x7f783691da40>]\n",
      "\n",
      "\n"
     ]
    }
   ],
   "source": [
    "test_phrase = phrases[0]\n",
    "def describe_xml(test_phrase):\n",
    "    print(f\"element: {test_phrase}\")\n",
    "    print(f\"text: {test_phrase.text}\")\n",
    "    print(f\"attributes: {test_phrase.attrib}\")\n",
    "    print(f\"tag: {test_phrase.tag}\")\n",
    "    print(f\"children: {test_phrase.getchildren()}\")\n",
    "    print(\"\\n\")\n",
    "describe_xml(test_phrase)"
   ]
  },
  {
   "cell_type": "markdown",
   "metadata": {},
   "source": [
    "### Exploring Phrase children\n",
    "\n",
    "Each phrase element has 5 children: \n",
    "- desription\n",
    "- original\n",
    "- translation\n",
    "- translation2\n",
    "- word"
   ]
  },
  {
   "cell_type": "code",
   "execution_count": 168,
   "metadata": {},
   "outputs": [
    {
     "data": {
      "text/plain": [
       "{'{http://typecraft.org/typecraft}description',\n",
       " '{http://typecraft.org/typecraft}original',\n",
       " '{http://typecraft.org/typecraft}translation',\n",
       " '{http://typecraft.org/typecraft}translation2',\n",
       " '{http://typecraft.org/typecraft}word'}"
      ]
     },
     "execution_count": 168,
     "metadata": {},
     "output_type": "execute_result"
    }
   ],
   "source": [
    "test_children = test_phrase.getchildren()\n",
    "set([x.tag for x in test_children])"
   ]
  },
  {
   "cell_type": "code",
   "execution_count": 169,
   "metadata": {},
   "outputs": [
    {
     "data": {
      "text/plain": [
       "[<Element {http://typecraft.org/typecraft}original at 0x7f7836923440>,\n",
       " <Element {http://typecraft.org/typecraft}translation at 0x7f7836916d80>,\n",
       " <Element {http://typecraft.org/typecraft}translation2 at 0x7f7836916a40>,\n",
       " <Element {http://typecraft.org/typecraft}description at 0x7f7836916f80>,\n",
       " <Element {http://typecraft.org/typecraft}word at 0x7f78369169c0>,\n",
       " <Element {http://typecraft.org/typecraft}word at 0x7f7836916700>,\n",
       " <Element {http://typecraft.org/typecraft}word at 0x7f7836916dc0>]"
      ]
     },
     "execution_count": 169,
     "metadata": {},
     "output_type": "execute_result"
    }
   ],
   "source": [
    "test_children"
   ]
  },
  {
   "cell_type": "markdown",
   "metadata": {},
   "source": [
    "#### Describing elements of \"phrase\"\n",
    "\n",
    "For the purposes of the POS tagger we are only interested in the \"word\" and \"original\" elements"
   ]
  },
  {
   "cell_type": "code",
   "execution_count": 170,
   "metadata": {},
   "outputs": [
    {
     "name": "stdout",
     "output_type": "stream",
     "text": [
      "element: <Element {http://typecraft.org/typecraft}original at 0x7f7836923440>\n",
      "text: Ama hyɛ ataadeɛ\n",
      "attributes: {}\n",
      "tag: {http://typecraft.org/typecraft}original\n",
      "children: []\n",
      "\n",
      "\n",
      "element: <Element {http://typecraft.org/typecraft}translation at 0x7f7836916d80>\n",
      "text: Ama is wearing a dress.\n",
      "attributes: {}\n",
      "tag: {http://typecraft.org/typecraft}translation\n",
      "children: []\n",
      "\n",
      "\n",
      "element: <Element {http://typecraft.org/typecraft}translation2 at 0x7f7836916a40>\n",
      "text: None\n",
      "attributes: {}\n",
      "tag: {http://typecraft.org/typecraft}translation2\n",
      "children: []\n",
      "\n",
      "\n",
      "element: <Element {http://typecraft.org/typecraft}description at 0x7f7836916f80>\n",
      "text: None\n",
      "attributes: {}\n",
      "tag: {http://typecraft.org/typecraft}description\n",
      "children: []\n",
      "\n",
      "\n",
      "element: <Element {http://typecraft.org/typecraft}word at 0x7f78369169c0>\n",
      "text: None\n",
      "attributes: {'text': 'Ama'}\n",
      "tag: {http://typecraft.org/typecraft}word\n",
      "children: [<Element {http://typecraft.org/typecraft}pos at 0x7f7836983c00>, <Element {http://typecraft.org/typecraft}morpheme at 0x7f7836983b80>]\n",
      "\n",
      "\n",
      "element: <Element {http://typecraft.org/typecraft}word at 0x7f7836916700>\n",
      "text: None\n",
      "attributes: {'text': 'hyɛ'}\n",
      "tag: {http://typecraft.org/typecraft}word\n",
      "children: [<Element {http://typecraft.org/typecraft}pos at 0x7f7836983c00>, <Element {http://typecraft.org/typecraft}morpheme at 0x7f7836983980>]\n",
      "\n",
      "\n",
      "element: <Element {http://typecraft.org/typecraft}word at 0x7f7836916dc0>\n",
      "text: None\n",
      "attributes: {'text': 'ataadeɛ'}\n",
      "tag: {http://typecraft.org/typecraft}word\n",
      "children: [<Element {http://typecraft.org/typecraft}pos at 0x7f7836987680>, <Element {http://typecraft.org/typecraft}morpheme at 0x7f7836983580>]\n",
      "\n",
      "\n"
     ]
    }
   ],
   "source": [
    "for child in test_children:\n",
    "    describe_xml(child)"
   ]
  },
  {
   "cell_type": "markdown",
   "metadata": {},
   "source": [
    "### Creating a POS dict for all morphemes\n",
    "\n",
    "After inspecting the \"word\" element, we find that \n",
    "- baseform attribute could be important\n",
    "- pos tag stores info in text and is a leaf node"
   ]
  },
  {
   "cell_type": "code",
   "execution_count": 174,
   "metadata": {},
   "outputs": [
    {
     "name": "stdout",
     "output_type": "stream",
     "text": [
      "element: <Element {http://typecraft.org/typecraft}pos at 0x7f7836989140>\n",
      "text: N\n",
      "attributes: {}\n",
      "tag: {http://typecraft.org/typecraft}pos\n",
      "children: []\n",
      "\n",
      "\n",
      "element: <Element {http://typecraft.org/typecraft}morpheme at 0x7f78369891c0>\n",
      "text: None\n",
      "attributes: {'text': 'ama', 'baseform': 'ama', 'meaning': 'ama'}\n",
      "tag: {http://typecraft.org/typecraft}morpheme\n",
      "children: [<Element {http://typecraft.org/typecraft}gloss at 0x7f7836981ac0>]\n",
      "\n",
      "\n",
      "element: <Element {http://typecraft.org/typecraft}gloss at 0x7f78369815c0>\n",
      "text: SBJ\n",
      "attributes: {}\n",
      "tag: {http://typecraft.org/typecraft}gloss\n",
      "children: []\n",
      "\n",
      "\n"
     ]
    }
   ],
   "source": [
    "#first find out how to access morpheme information\n",
    "test_words = []\n",
    "for word in test_phrase.iter(\"{http://typecraft.org/typecraft}word\"):\n",
    "    test_words.append(word)\n",
    "\n",
    "test_word = test_words[0].getchildren()\n",
    "\n",
    "for i in test_word:\n",
    "    describe_xml(i)\n",
    "    \n",
    "#what is gloss? Seems not super important\n",
    "describe_xml(test_word[1].getchildren()[0])"
   ]
  },
  {
   "cell_type": "markdown",
   "metadata": {},
   "source": [
    "1. Isolating POS and Baseform for each word. "
   ]
  },
  {
   "cell_type": "code",
   "execution_count": 184,
   "metadata": {},
   "outputs": [
    {
     "name": "stdout",
     "output_type": "stream",
     "text": [
      "Part of speech: N\n",
      "Baseform: ama\n"
     ]
    }
   ],
   "source": [
    "#tag = {http://typecraft.org/typecraft}pos\n",
    "test_pos = test_word[0].text\n",
    "print(f\"Part of speech: {test_pos}\")\n",
    "\n",
    "#tag = {http://typecraft.org/typecraft}morpheme\n",
    "test_base_form = test_word[1].attrib['baseform']\n",
    "print(f\"Baseform: {test_base_form}\")"
   ]
  }
 ],
 "metadata": {
  "kernelspec": {
   "display_name": "Python 3",
   "language": "python",
   "name": "python3"
  },
  "language_info": {
   "codemirror_mode": {
    "name": "ipython",
    "version": 3
   },
   "file_extension": ".py",
   "mimetype": "text/x-python",
   "name": "python",
   "nbconvert_exporter": "python",
   "pygments_lexer": "ipython3",
   "version": "3.8.5"
  }
 },
 "nbformat": 4,
 "nbformat_minor": 4
}
