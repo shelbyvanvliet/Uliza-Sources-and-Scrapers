{
 "cells": [
  {
   "cell_type": "code",
   "execution_count": 5,
   "metadata": {},
   "outputs": [],
   "source": [
    "import pandas as pd"
   ]
  },
  {
   "cell_type": "code",
   "execution_count": 9,
   "metadata": {},
   "outputs": [],
   "source": [
    "df = pd.read_csv('./twi_dict.csv')"
   ]
  },
  {
   "cell_type": "code",
   "execution_count": 10,
   "metadata": {},
   "outputs": [
    {
     "data": {
      "text/html": [
       "<div>\n",
       "<style scoped>\n",
       "    .dataframe tbody tr th:only-of-type {\n",
       "        vertical-align: middle;\n",
       "    }\n",
       "\n",
       "    .dataframe tbody tr th {\n",
       "        vertical-align: top;\n",
       "    }\n",
       "\n",
       "    .dataframe thead th {\n",
       "        text-align: right;\n",
       "    }\n",
       "</style>\n",
       "<table border=\"1\" class=\"dataframe\">\n",
       "  <thead>\n",
       "    <tr style=\"text-align: right;\">\n",
       "      <th></th>\n",
       "      <th>english</th>\n",
       "      <th>pos</th>\n",
       "      <th>twi</th>\n",
       "    </tr>\n",
       "  </thead>\n",
       "  <tbody>\n",
       "    <tr>\n",
       "      <th>0</th>\n",
       "      <td>hopeless</td>\n",
       "      <td>ADJECTIVE</td>\n",
       "      <td>anidasoɔ nni mu; deɛ anidasoɔ nni mu</td>\n",
       "    </tr>\n",
       "    <tr>\n",
       "      <th>1</th>\n",
       "      <td>horizon</td>\n",
       "      <td>NOUN</td>\n",
       "      <td>ewiem ne asase ahyiaeɛ</td>\n",
       "    </tr>\n",
       "    <tr>\n",
       "      <th>2</th>\n",
       "      <td>horn</td>\n",
       "      <td>NOUN</td>\n",
       "      <td>abɛn; abebɛn</td>\n",
       "    </tr>\n",
       "    <tr>\n",
       "      <th>3</th>\n",
       "      <td>horror</td>\n",
       "      <td>NOUN</td>\n",
       "      <td>ehu</td>\n",
       "    </tr>\n",
       "    <tr>\n",
       "      <th>4</th>\n",
       "      <td>horrible</td>\n",
       "      <td>ADJECTIVE</td>\n",
       "      <td>ɛyɛ hu; deɛ ɛyɛ hu</td>\n",
       "    </tr>\n",
       "    <tr>\n",
       "      <th>...</th>\n",
       "      <td>...</td>\n",
       "      <td>...</td>\n",
       "      <td>...</td>\n",
       "    </tr>\n",
       "    <tr>\n",
       "      <th>7245</th>\n",
       "      <td>interchange</td>\n",
       "      <td>VERB</td>\n",
       "      <td>di nsesa</td>\n",
       "    </tr>\n",
       "    <tr>\n",
       "      <th>7246</th>\n",
       "      <td>interior</td>\n",
       "      <td>ADJECTIVE | NOUN</td>\n",
       "      <td>emu</td>\n",
       "    </tr>\n",
       "    <tr>\n",
       "      <th>7247</th>\n",
       "      <td>keenness</td>\n",
       "      <td>NOUN</td>\n",
       "      <td>aniku</td>\n",
       "    </tr>\n",
       "    <tr>\n",
       "      <th>7248</th>\n",
       "      <td>interlude</td>\n",
       "      <td>NOUN</td>\n",
       "      <td>ntwaremu</td>\n",
       "    </tr>\n",
       "    <tr>\n",
       "      <th>7249</th>\n",
       "      <td>interfere</td>\n",
       "      <td>VERB</td>\n",
       "      <td>twitwa anan mu</td>\n",
       "    </tr>\n",
       "  </tbody>\n",
       "</table>\n",
       "<p>7250 rows × 3 columns</p>\n",
       "</div>"
      ],
      "text/plain": [
       "          english               pos                                    twi\n",
       "0        hopeless         ADJECTIVE  anidasoɔ nni mu; deɛ anidasoɔ nni mu \n",
       "1         horizon              NOUN                 ewiem ne asase ahyiaeɛ\n",
       "2            horn              NOUN                          abɛn; abebɛn \n",
       "3          horror              NOUN                                    ehu\n",
       "4        horrible         ADJECTIVE                     ɛyɛ hu; deɛ ɛyɛ hu\n",
       "...           ...               ...                                    ...\n",
       "7245  interchange              VERB                               di nsesa\n",
       "7246     interior  ADJECTIVE | NOUN                                    emu\n",
       "7247     keenness              NOUN                                  aniku\n",
       "7248    interlude              NOUN                               ntwaremu\n",
       "7249    interfere              VERB                         twitwa anan mu\n",
       "\n",
       "[7250 rows x 3 columns]"
      ]
     },
     "execution_count": 10,
     "metadata": {},
     "output_type": "execute_result"
    }
   ],
   "source": [
    "df"
   ]
  }
 ],
 "metadata": {
  "kernelspec": {
   "display_name": "Python 3",
   "language": "python",
   "name": "python3"
  },
  "language_info": {
   "codemirror_mode": {
    "name": "ipython",
    "version": 3
   },
   "file_extension": ".py",
   "mimetype": "text/x-python",
   "name": "python",
   "nbconvert_exporter": "python",
   "pygments_lexer": "ipython3",
   "version": "3.8.5"
  }
 },
 "nbformat": 4,
 "nbformat_minor": 4
}
