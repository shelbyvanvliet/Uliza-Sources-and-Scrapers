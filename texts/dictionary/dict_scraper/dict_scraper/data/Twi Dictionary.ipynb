{
 "cells": [
  {
   "cell_type": "code",
   "execution_count": 5,
   "metadata": {},
   "outputs": [],
   "source": [
    "import pandas as pd"
   ]
  },
  {
   "cell_type": "code",
   "execution_count": 6,
   "metadata": {},
   "outputs": [],
   "source": [
    "df = pd.read_csv('./twi_dict.csv')"
   ]
  },
  {
   "cell_type": "code",
   "execution_count": 7,
   "metadata": {},
   "outputs": [
    {
     "data": {
      "text/html": [
       "<div>\n",
       "<style scoped>\n",
       "    .dataframe tbody tr th:only-of-type {\n",
       "        vertical-align: middle;\n",
       "    }\n",
       "\n",
       "    .dataframe tbody tr th {\n",
       "        vertical-align: top;\n",
       "    }\n",
       "\n",
       "    .dataframe thead th {\n",
       "        text-align: right;\n",
       "    }\n",
       "</style>\n",
       "<table border=\"1\" class=\"dataframe\">\n",
       "  <thead>\n",
       "    <tr style=\"text-align: right;\">\n",
       "      <th></th>\n",
       "      <th>english</th>\n",
       "      <th>pos</th>\n",
       "      <th>twi</th>\n",
       "    </tr>\n",
       "  </thead>\n",
       "  <tbody>\n",
       "    <tr>\n",
       "      <th>0</th>\n",
       "      <td>monitor-lizard</td>\n",
       "      <td>NOUN</td>\n",
       "      <td>ɔmampam</td>\n",
       "    </tr>\n",
       "    <tr>\n",
       "      <th>1</th>\n",
       "      <td>abatement</td>\n",
       "      <td>NOUN</td>\n",
       "      <td>ntesoɔ</td>\n",
       "    </tr>\n",
       "    <tr>\n",
       "      <th>2</th>\n",
       "      <td>veiled-insult</td>\n",
       "      <td>NOUN</td>\n",
       "      <td>mpoatwa</td>\n",
       "    </tr>\n",
       "    <tr>\n",
       "      <th>3</th>\n",
       "      <td>property-tax</td>\n",
       "      <td>NOUN PHRASE</td>\n",
       "      <td>tokuro toɔ</td>\n",
       "    </tr>\n",
       "    <tr>\n",
       "      <th>4</th>\n",
       "      <td>brush-tailed-porcupine</td>\n",
       "      <td>NOUN</td>\n",
       "      <td>apɛsɛ</td>\n",
       "    </tr>\n",
       "    <tr>\n",
       "      <th>5</th>\n",
       "      <td>hard-work</td>\n",
       "      <td>NOUN</td>\n",
       "      <td>adwumaden</td>\n",
       "    </tr>\n",
       "    <tr>\n",
       "      <th>6</th>\n",
       "      <td>ancient-rock</td>\n",
       "      <td>PHRASE</td>\n",
       "      <td>tete botan</td>\n",
       "    </tr>\n",
       "    <tr>\n",
       "      <th>7</th>\n",
       "      <td>wolf</td>\n",
       "      <td>NOUN</td>\n",
       "      <td>ɔpataku</td>\n",
       "    </tr>\n",
       "    <tr>\n",
       "      <th>8</th>\n",
       "      <td>hardworking</td>\n",
       "      <td>ADJECTIVE</td>\n",
       "      <td>nsiyɛfoɔ</td>\n",
       "    </tr>\n",
       "    <tr>\n",
       "      <th>9</th>\n",
       "      <td>hub</td>\n",
       "      <td>NOUN</td>\n",
       "      <td>akakye</td>\n",
       "    </tr>\n",
       "  </tbody>\n",
       "</table>\n",
       "</div>"
      ],
      "text/plain": [
       "                  english          pos         twi\n",
       "0          monitor-lizard         NOUN     ɔmampam\n",
       "1               abatement         NOUN      ntesoɔ\n",
       "2           veiled-insult         NOUN     mpoatwa\n",
       "3            property-tax  NOUN PHRASE  tokuro toɔ\n",
       "4  brush-tailed-porcupine         NOUN       apɛsɛ\n",
       "5               hard-work         NOUN   adwumaden\n",
       "6            ancient-rock       PHRASE  tete botan\n",
       "7                    wolf         NOUN     ɔpataku\n",
       "8             hardworking    ADJECTIVE    nsiyɛfoɔ\n",
       "9                     hub         NOUN      akakye"
      ]
     },
     "execution_count": 7,
     "metadata": {},
     "output_type": "execute_result"
    }
   ],
   "source": [
    "df"
   ]
  }
 ],
 "metadata": {
  "kernelspec": {
   "display_name": "Python 3",
   "language": "python",
   "name": "python3"
  },
  "language_info": {
   "codemirror_mode": {
    "name": "ipython",
    "version": 3
   },
   "file_extension": ".py",
   "mimetype": "text/x-python",
   "name": "python",
   "nbconvert_exporter": "python",
   "pygments_lexer": "ipython3",
   "version": "3.8.5"
  }
 },
 "nbformat": 4,
 "nbformat_minor": 4
}
